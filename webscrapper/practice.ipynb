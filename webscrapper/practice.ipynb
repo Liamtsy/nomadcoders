{
  "cells": [
    {
      "cell_type": "code",
      "execution_count": null,
      "metadata": {
        "colab": {
          "base_uri": "https://localhost:8080/"
        },
        "id": "O78__wi3XfqQ",
        "outputId": "b21339e7-9620-4f83-f2d7-f8d134816020"
      },
      "outputs": [
        {
          "name": "stdout",
          "output_type": "stream",
          "text": [
            "Hello World\n"
          ]
        }
      ],
      "source": [
        "print(\"Hello World\")"
      ]
    },
    {
      "cell_type": "code",
      "execution_count": null,
      "metadata": {
        "colab": {
          "base_uri": "https://localhost:8080/"
        },
        "id": "goUFu_VxX2Ih",
        "outputId": "c78f7d63-9a7a-48e9-daec-ccb000084e2d"
      },
      "outputs": [
        {
          "name": "stdout",
          "output_type": "stream",
          "text": [
            "Hello I'm Liam and\n",
            "22 years old!\n"
          ]
        }
      ],
      "source": [
        "my_name = 'Liam'\n",
        "my_age = 22\n",
        "dead = False\n",
        "print(\"Hello I'm\", my_name, \"and\")\n",
        "print(my_age, \"years old!\")"
      ]
    },
    {
      "cell_type": "code",
      "execution_count": null,
      "metadata": {
        "colab": {
          "base_uri": "https://localhost:8080/"
        },
        "id": "GS54DwUhbZkF",
        "outputId": "917867af-3ff4-44ee-cb17-84a636b9ecd4"
      },
      "outputs": [
        {
          "name": "stdout",
          "output_type": "stream",
          "text": [
            "Heyy Liam how's it goin?\n",
            "You are 22 right?\n",
            "Heyy Anonymous how's it goin?\n",
            "You are a baby right?\n"
          ]
        }
      ],
      "source": [
        "def say_hello(name=\"Anonymous\", age=\"a baby\"):\n",
        "  print(\"Heyy\", name, \"how's it goin?\")\n",
        "  print(\"You are\", age, \"right?\")\n",
        "\n",
        "say_hello(\"Liam\",22)\n",
        "say_hello()"
      ]
    },
    {
      "cell_type": "code",
      "execution_count": null,
      "metadata": {
        "colab": {
          "base_uri": "https://localhost:8080/"
        },
        "id": "7dDPan_TrWlz",
        "outputId": "2fb84586-a4a6-49bc-b102-586e40c1a6e0"
      },
      "outputs": [
        {
          "name": "stdout",
          "output_type": "stream",
          "text": [
            "7\n",
            "2\n",
            "16\n",
            "2.0\n",
            "27\n",
            "0\n",
            "0\n",
            "0\n",
            "0.0\n",
            "0\n"
          ]
        }
      ],
      "source": [
        "# A calculator\n",
        "\n",
        "def plus(a=0, b=0):\n",
        "  print(a + b)\n",
        "\n",
        "def minus(a=0, b=0):\n",
        "  print(a - b)\n",
        "\n",
        "def multiply(a=0, b=0):\n",
        "  print(a * b)\n",
        "\n",
        "def divide(a=0, b=1):\n",
        "  print(a / b)\n",
        "\n",
        "def power(a=0, b=1):\n",
        "  print(a ** b)\n",
        "\n",
        "plus(3, 4)\n",
        "minus(5, 3)\n",
        "multiply(2, 8)\n",
        "divide(6, 3)\n",
        "power(3, 3)\n",
        "\n",
        "plus()\n",
        "minus()\n",
        "multiply()\n",
        "divide()\n",
        "power()"
      ]
    },
    {
      "cell_type": "code",
      "execution_count": null,
      "metadata": {
        "colab": {
          "base_uri": "https://localhost:8080/"
        },
        "id": "SNOP2DwpvD57",
        "outputId": "980c9c2b-e878-433e-a922-d613d64b575f"
      },
      "outputs": [
        {
          "name": "stdout",
          "output_type": "stream",
          "text": [
            "Please write your monthly_revenue($):9500\n",
            "Please write your monthly_expenses($):5000\n",
            "Your tax bill is: $8019.0\n"
          ]
        }
      ],
      "source": [
        "# Assignment1 (A tax calculator)\n",
        "\n",
        "monthly_revenue = int(input(\"Please write your monthly_revenue($):\"))\n",
        "monthly_expenses = int(input(\"Please write your monthly_expenses($):\"))\n",
        "tax_credits = 0.01\n",
        "\n",
        "def get_yearly_revenue(monthly_revenue):\n",
        "  return monthly_revenue * 12\n",
        "\n",
        "def get_yearly_expenses(monthly_expenses):\n",
        "  return monthly_expenses * 12\n",
        "\n",
        "def get_tax_amount(profit):\n",
        "  if profit >= 100000:\n",
        "    return profit * 0.25\n",
        "  else:\n",
        "    return profit * 0.15\n",
        "\n",
        "def apply_tax_credits(tax_amount, tax_credits):\n",
        "  return tax_amount * tax_credits\n",
        "\n",
        "profit = get_yearly_revenue(monthly_revenue) - get_yearly_expenses(monthly_expenses)\n",
        "\n",
        "tax_amount = get_tax_amount(profit)\n",
        "\n",
        "final_tax_amount = tax_amount - apply_tax_credits(tax_amount, tax_credits)\n",
        "\n",
        "print(f\"Your tax bill is: ${final_tax_amount}\")\n",
        "\n"
      ]
    },
    {
      "cell_type": "code",
      "execution_count": null,
      "metadata": {
        "colab": {
          "base_uri": "https://localhost:8080/"
        },
        "id": "_1I4OunXBKuP",
        "outputId": "b5d745fe-6735-48ea-d7b1-1787ed7b0730"
      },
      "outputs": [
        {
          "name": "stdout",
          "output_type": "stream",
          "text": [
            "Choose a number:\n",
            "1\n",
            "Choose another one:\n",
            "5\n",
            "Choose an operation:\n",
            "    Options are: + , - , * or /.\n",
            "    Write 'exit' to finish.\n",
            "exit\n"
          ]
        }
      ],
      "source": [
        "# Assignment2\n",
        "\n",
        "playing = True\n",
        "\n",
        "while playing:\n",
        "  a = int(input(\"Choose a number:\\n\"))\n",
        "  b = int(input(\"Choose another one:\\n\"))\n",
        "  operation = input(\"Choose an operation:\\n    Options are: + , - , * or /.\\n    Write 'exit' to finish.\\n\")\n",
        "  \n",
        "  if operation == \"+\":\n",
        "    print(\"Result:\", a + b)\n",
        "  elif operation == \"-\":\n",
        "    print(\"Result:\", a - b)\n",
        "  elif operation == \"*\":\n",
        "    print(\"Result:\", a * b)\n",
        "  elif operation == \"/\":\n",
        "    print(\"Result:\", a / b)\n",
        "  elif 'exit':\n",
        "    playing = False"
      ]
    },
    {
      "cell_type": "code",
      "execution_count": null,
      "metadata": {
        "colab": {
          "base_uri": "https://localhost:8080/"
        },
        "id": "do9N7U8OY1y-",
        "outputId": "a5437d92-bf17-4123-8945-f02b2db4bf18"
      },
      "outputs": [
        {
          "name": "stdout",
          "output_type": "stream",
          "text": [
            "Welcome to Python Casino ! ! !\n",
            "Please choose a number between 1-50:\n",
            "     Write '0' to quit.\n",
            "0\n",
            "Higher!\n",
            "Please choose a number between 1-50:\n",
            "     Write '0' to quit.\n",
            "0\n",
            "Higher!\n",
            "Please choose a number between 1-50:\n",
            "     Write '0' to quit.\n",
            "0\n"
          ]
        }
      ],
      "source": [
        "# Python Casino\n",
        "from random import randint\n",
        "print('Welcome to Python Casino ! ! !')\n",
        "pc_choice = randint(1, 50)\n",
        "\n",
        "playing = True\n",
        "while playing:\n",
        "  user_choice = int(input(\"Please choose a number between 1-50:\\n     Write '0' to quit.\\n\"))\n",
        "  if user_choice == pc_choice:\n",
        "    playing = False\n",
        "    print('You won!')\n",
        "  elif user_choice > pc_choice:\n",
        "    print('Lower!')\n",
        "  elif user_choice < pc_choice:\n",
        "    print('Higher!')\n",
        "  elif user_choice == 0:\n",
        "    playing = False"
      ]
    },
    {
      "cell_type": "code",
      "execution_count": null,
      "metadata": {
        "colab": {
          "base_uri": "https://localhost:8080/"
        },
        "id": "JsduGhgp2Ds-",
        "outputId": "43cf6590-df02-410b-c569-a73a2c8ce9ff"
      },
      "outputs": [
        {
          "name": "stdout",
          "output_type": "stream",
          "text": [
            "{'https://google.com': '2xx / successful', 'https://httpstat.us/502': '5xx / server error', 'https://httpstat.us/404': '4xx / client error', 'https://httpstat.us/300': '3xx / redirection ', 'https://httpstat.us/200': '2xx / successful', 'https://httpstat.us/101': '1xx / informational response'}\n"
          ]
        }
      ],
      "source": [
        "# Request & Get & Response\n",
        "from requests import get\n",
        "\n",
        "websites=[\n",
        "\"google.com\",\n",
        "\"https://httpstat.us/502\",\n",
        "\"https://httpstat.us/404\",\n",
        "\"https://httpstat.us/300\",\n",
        "\"https://httpstat.us/200\",\n",
        "\"https://httpstat.us/101\"\n",
        "]\n",
        "#https://httpstat.us/xxx is service for generating HTTP codes\n",
        "\n",
        "results={}\n",
        "\n",
        "for website in websites:\n",
        "  if not website.startswith(\"https://\"):\n",
        "    website = f\"https://{website}\"\n",
        "  response = get(website).status_code\n",
        "  if response >= 500:\n",
        "    results[website] = \"5xx / server error\"\n",
        "  elif response >= 400:\n",
        "    results[website] = \"4xx / client error\"\n",
        "  elif response >= 300:\n",
        "    results[website] = \"3xx / redirection \"\n",
        "  elif response >= 200:\n",
        "    results[website] = \"2xx / successful\"\n",
        "  elif response >= 100:\n",
        "    results[website] = \"1xx / informational response\"\n",
        "\n",
        "print(results)"
      ]
    },
    {
      "cell_type": "code",
      "execution_count": null,
      "metadata": {},
      "outputs": [
        {
          "ename": "",
          "evalue": "",
          "output_type": "error",
          "traceback": [
            "\u001b[1;31mFailed to start the Kernel. \n",
            "\u001b[1;31mKernel Python 3.10.4 64-bit is not usable. Check the Jupyter output tab for more information. \n",
            "View Jupyter <a href='command:jupyter.viewOutput'>log</a> for further details."
          ]
        }
      ],
      "source": [
        "# Assignment 3\n",
        "numbers = [1, \"💖\", 2, \"🔥\", 3, \"⭐️\", 4, \"💖\", 5, \"🔥\", 6, \"⭐️\", 7, \"💖\", 8, \"🔥\", 9, \"⭐️\", 10, \"💖\", 11, \"🔥\", 12, \"⭐️\", 13, \"💖\", 14, \"🔥\", 15, \"⭐️\", 16]\n",
        "\n",
        "result = []\n",
        "\n",
        "for number in numbers:\n",
        "  if type(number) == int:\n",
        "    result.append(number)\n",
        "print(result)\n",
        "print(sum(result))"
      ]
    },
    {
      "cell_type": "code",
      "execution_count": null,
      "metadata": {},
      "outputs": [
        {
          "ename": "",
          "evalue": "",
          "output_type": "error",
          "traceback": [
            "\u001b[1;31mFailed to start the Kernel. \n",
            "\u001b[1;31mKernel Python 3.10.4 64-bit is not usable. Check the Jupyter output tab for more information. \n",
            "View Jupyter <a href='command:jupyter.viewOutput'>log</a> for further details."
          ]
        }
      ],
      "source": [
        "from requests import get\n",
        "from bs4 import BeautifulSoup\n",
        "base_url = \"https://weworkremotely.com/remote-jobs/search?utf8=%E2%9C%93&term=\"\n",
        "search_term = \"python\"\n",
        "response = get(f'{base_url}{search_term}')\n",
        "if response.status_code != 200:\n",
        "  print(f\"Can't request website{response}\")\n",
        "else:\n",
        "  soup = BeautifulSoup(response.text, 'html.parser')\n",
        "  jobs = (soup.find_all('section', class_='jobs'))\n",
        "  # class는 이미 파이썬에서 사용중인거라, 밑에 _ 붙여줘야함. 이 class는 html의 class라 다름.\n",
        "  print(len(jobs))\n",
        "  for job_section in jobs:\n",
        "    job_posts = job_section.find_all('li')\n",
        "    job_posts.pop(-1)\n",
        "    for post in job_posts:\n",
        "      anchors = post.find_all('a')\n",
        "      anchor = anchors[1]\n",
        "      #print(anchor)\n",
        "      link = (anchor['href']) #anchor is a dictionarylike.\n",
        "      company, kind, region = anchor.find_all('span', class_='company') # company 클래스 가지고 있는거 세 개 있고, 그냥 세 개에 넣어주면 파이썬이 알아서 해줌.\n",
        "      title = anchor.find('span', class_='title')\n",
        "      print(company, kind, region, title)\n",
        "      print('//////////')\n",
        "      print('//////////')\n"
      ]
    }
  ],
  "metadata": {
    "colab": {
      "collapsed_sections": [],
      "provenance": []
    },
    "kernelspec": {
      "display_name": "Python 3.10.4 64-bit",
      "language": "python",
      "name": "python3"
    },
    "language_info": {
      "name": "python",
      "version": "3.10.4"
    },
    "vscode": {
      "interpreter": {
        "hash": "aee8b7b246df8f9039afb4144a1f6fd8d2ca17a180786b69acc140d282b71a49"
      }
    }
  },
  "nbformat": 4,
  "nbformat_minor": 0
}
